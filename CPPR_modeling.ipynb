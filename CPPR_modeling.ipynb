{
 "cells": [
  {
   "cell_type": "code",
   "execution_count": 1211,
   "metadata": {},
   "outputs": [],
   "source": [
    "# Importing required libraries\n",
    "import numpy as np\n",
    "from numpy import pi,sin,cos,arccos\n",
    "import matplotlib.pyplot as plt\n",
    "from scipy.integrate import cumtrapz\n",
    "from scipy.optimize import fsolve"
   ]
  },
  {
   "cell_type": "code",
   "execution_count": 1212,
   "metadata": {},
   "outputs": [],
   "source": [
    "# Given design specifications\n",
    "\n",
    "OD_o = 8.5  # Outer tube #mm\n",
    "ID_o = 7.0 \n",
    "OR_o = OD_o/2 # outer radius for outer tube\n",
    "IR_o = ID_o/2\n",
    "\n",
    "OD_i = 5.5   # Inner tube, outer diameter\n",
    "ID_i = 4 \n",
    "OR_i = OD_i/2 # outer radius for inner tube\n",
    "IR_i = ID_i/2\n",
    "# print(OR_i,OR_o)\n",
    "\n",
    "n = 15  # Number of notches\n",
    "\n",
    "L_curve = (c+h)*n # Length of curve in mm\n",
    "\n",
    "c = 5 #mm (outer) (for both inner and outer tube)\n",
    "h = 5 # mm\n",
    "g_o = 7.5\n",
    "g_i = 4.5\n",
    "\n",
    "phi_o = [pi if i < 5 else 0 for i in range(n)]\n",
    "phi_i = [0 if i < 5 else pi for i in range(n)]"
   ]
  },
  {
   "cell_type": "markdown",
   "metadata": {},
   "source": [
    "## Neutral Axis Offset"
   ]
  },
  {
   "cell_type": "code",
   "execution_count": 1213,
   "metadata": {},
   "outputs": [],
   "source": [
    "# Given: depth g, inner radius r_i, outer radius r_o\n",
    "# Find: neutral bending plane, y\n",
    "def calculate_ybar(g, r_i, r_o):\n",
    "    from math import sin, acos, pi\n",
    "\n",
    "    # Ensure the arguments for acos are within the valid range [-1, 1]\n",
    "    arg_o = (g - r_o) / r_o\n",
    "    arg_i = (g - r_o) / r_i\n",
    "    # print(\"Arg_i:\",arg_i, \"Arg_o:\",arg_o)\n",
    "    if not (-1 <= arg_o <= 1 and -1 <= arg_i <= 1):\n",
    "        return \"Error: Input results out of domain for acos function.\"\n",
    "    \n",
    "\n",
    "    # Calculate phi_o and phi_i (phi here refering to CPPR paper 1)\n",
    "    phi_o = 2 * arccos(arg_o)\n",
    "    phi_i = 2 * arccos(arg_i)\n",
    "    # print(phi_i, phi_o)\n",
    "\n",
    "    # Calculate areas A_o and A_i\n",
    "    A_o = (r_o**2 * (phi_o - sin(phi_o))) / 2\n",
    "    A_i = (r_i**2 * (phi_i - sin(phi_i))) / 2\n",
    "    # print(A_i, A_o)\n",
    "\n",
    "    # Calculate centroids y_o and y_i\n",
    "    y_o = (4 * r_o * sin(0.5 * phi_o)**3) / (3 * (phi_o - sin(phi_o)))\n",
    "    y_i = (4 * r_i * sin(0.5 * phi_i)**3) / (3 * (phi_i - sin(phi_i)))\n",
    "\n",
    "    # Calculate neutral bending plane y_bar\n",
    "    y= (y_o * A_o - y_i * A_i) / (A_o - A_i)\n",
    "    y_bar = abs(y)\n",
    "\n",
    "    return y_bar"
   ]
  },
  {
   "cell_type": "code",
   "execution_count": 1214,
   "metadata": {},
   "outputs": [
    {
     "name": "stdout",
     "output_type": "stream",
     "text": [
      "y_i_bar: 2.195168262694937 y_o_bar: 3.694383372192906\n",
      "y_i: [ 2.19516826  2.19516826  2.19516826  2.19516826  2.19516826 -2.19516826\n",
      " -2.19516826 -2.19516826 -2.19516826 -2.19516826 -2.19516826 -2.19516826\n",
      " -2.19516826 -2.19516826 -2.19516826] y_o: [-3.69438337 -3.69438337 -3.69438337 -3.69438337 -3.69438337  3.69438337\n",
      "  3.69438337  3.69438337  3.69438337  3.69438337  3.69438337  3.69438337\n",
      "  3.69438337  3.69438337  3.69438337]\n"
     ]
    }
   ],
   "source": [
    "# find y for inner tube and outer tube\n",
    "y_i_bar = calculate_ybar(g_i, IR_i, OR_i)\n",
    "y_o_bar = calculate_ybar(g_o, IR_o, OR_o)\n",
    "print(\"y_i_bar:\",y_i_bar,\"y_o_bar:\", y_o_bar)\n",
    "y_i = y_i_bar*cos(phi_i)\n",
    "y_o = y_o_bar*cos(phi_o)\n",
    "print(\"y_i:\",y_i,\"y_o:\", y_o)"
   ]
  },
  {
   "cell_type": "markdown",
   "metadata": {},
   "source": [
    "## Segment Curvatures"
   ]
  },
  {
   "cell_type": "code",
   "execution_count": 1215,
   "metadata": {},
   "outputs": [],
   "source": [
    "# # assume constant tau\n",
    "# # q and kappa correlation\n",
    "# d = y_i_bar + y_o_bar \n",
    "# q_total = 10 # TABLE II (paper2)\n",
    "# q = q_total / n\n",
    "\n",
    "# # segment outer curvature, k_o_j\n",
    "# def calculate_k_o(q,d,h):\n",
    "#     k_o_j = q / (d * h) # [1/mm]\n",
    "#     return k_o_j"
   ]
  },
  {
   "cell_type": "code",
   "execution_count": 1216,
   "metadata": {},
   "outputs": [],
   "source": [
    "# # constant curvature in opposite direction\n",
    "# k_o_j = calculate_k_o(q,d,h)\n",
    "# # give it a sign\n",
    "# k_o = k_o_j*cos(phi_o)\n",
    "\n",
    "# k = k_o_j / (1+(y_o *k_o_j))\n",
    "# k = k_o / (1+(y_o *k_o))\n",
    "# print(k)\n",
    "\n",
    "# # center line length, lj\n",
    "# l = h / (1-(y_o *k))\n",
    "# q_test = np.sum(l)\n",
    "# print(q_test+c*n)\n",
    "# print(l) "
   ]
  },
  {
   "cell_type": "code",
   "execution_count": 1217,
   "metadata": {},
   "outputs": [],
   "source": [
    "# # # curvature bending transformation\n",
    "# curvature_coord = []\n",
    "# x_test = []\n",
    "# z_test = []\n",
    "# prev_coord = [0,0,0,1] # homogenous coordinate [x,y,z,1]\n",
    "# curvature_coord.append(prev_coord)\n",
    "# Tr = np.array([[1, 0, 0, 0],\n",
    "#                 [0, 1, 0, 0],\n",
    "#                 [0, 0, 1, c],\n",
    "#                 [0, 0, 0, 1]])\n",
    "\n",
    "# for j in range(n):\n",
    "#     th = k[j] * l[j] # curvature * arc length = theta\n",
    "#     print(th)\n",
    "#     Tb_j = np.array([[cos(th), 0, sin(th), (1-cos(th)) / k[j]],\n",
    "#                     [0, 1, 0, 0],\n",
    "#                     [-sin(th), 0, cos(th), sin(th) / k[j]],\n",
    "#                     [0, 0, 0, 1]])\n",
    "\n",
    "#     # transform\n",
    "#     cur_coord = Tb_j @ Tr @ prev_coord\n",
    "#     curvature_coord.append(cur_coord)\n",
    "#     prev_coord = cur_coord\n",
    "\n",
    "#     # x and z values\n",
    "#     # print(cur_coord)\n",
    "#     cur_x = cur_coord[0]\n",
    "#     cur_z = cur_coord[2]\n",
    "\n",
    "#     x_test.append(cur_x)\n",
    "#     z_test.append(cur_z)\n",
    "   \n",
    "\n",
    "# # print(x_test)\n",
    "# # print(z_test)"
   ]
  },
  {
   "cell_type": "code",
   "execution_count": 1218,
   "metadata": {},
   "outputs": [
    {
     "name": "stdout",
     "output_type": "stream",
     "text": [
      "[ 0.03395844  0.03395844  0.03395844  0.03395844  0.03395844 -0.03395844\n",
      " -0.03395844 -0.03395844 -0.03395844 -0.03395844 -0.03395844 -0.03395844\n",
      " -0.03395844 -0.03395844 -0.03395844]\n"
     ]
    }
   ],
   "source": [
    "# assume constant tau\n",
    "# q and kappa correlation\n",
    "d = y_i_bar + y_o_bar \n",
    "q_total = -15 # TABLE II (paper2)\n",
    "q = q_total / n\n",
    "\n",
    "# segment outer curvature, k_o_j\n",
    "def calculate_k_o(q,d,h):\n",
    "    k_o_j = q / (d * h) # [1/mm]\n",
    "    return k_o_j# constant curvature in opposite direction\n",
    "k_o_j = calculate_k_o(q,d,h)\n",
    "curvatures_o = k_o_j * cos(phi_o)\n",
    "print(curvatures_o)\n",
    "# curvatures_o = []\n",
    "# for i in range(q_total):\n",
    "#     k_o_j = calculate_k_o(q,d,h)\n",
    "#     curvatures_o.append(k_o_j * cos(phi_o))"
   ]
  },
  {
   "cell_type": "code",
   "execution_count": 1219,
   "metadata": {},
   "outputs": [],
   "source": [
    "# d = y_i_bar + y_o_bar \n",
    "# def update(val):\n",
    "#     q_total = q_slider.val\n",
    "#     q = q_total / n \n",
    "#     curvatures_o = calculate_k_o(q,d,h) * cos(phi_o)\n",
    "#     x, z = calculate_curve_coordinates(L_curve,n, c, h, curvatures_o)\n",
    "#     return x, z"
   ]
  },
  {
   "cell_type": "code",
   "execution_count": 1220,
   "metadata": {},
   "outputs": [],
   "source": [
    "# def calculate_curve_coordinates(total_length, n, c, h, curvatures_o):\n",
    "#     # Generate a list of s values (arc length along the curve)\n",
    "#     s_values = np.linspace(0, total_length, n + 1)\n",
    "\n",
    "#     # Compute the curvature for each s value\n",
    "#     k_values = np.array([curvature(s, n, curvatures_o, c, h) for s in s_values])\n",
    "\n",
    "#     # Integrate curvature to get the turning angles\n",
    "#     angles = cumtrapz(k_values, s_values, initial=0)\n",
    "\n",
    "#     # Integrate the angles to get the coordinates of the curve\n",
    "#     x = cumtrapz(np.sin(angles), s_values, initial=0)\n",
    "#     z = cumtrapz(np.cos(angles), s_values, initial=0)\n",
    "\n",
    "#     return x, z"
   ]
  },
  {
   "cell_type": "code",
   "execution_count": 1221,
   "metadata": {},
   "outputs": [
    {
     "name": "stdout",
     "output_type": "stream",
     "text": [
      "[  0.  10.  20.  30.  40.  50.  60.  70.  80.  90. 100. 110. 120. 130.\n",
      " 140. 150.]\n"
     ]
    },
    {
     "data": {
      "image/png": "[encoded data removed]",
      "text/plain": [
       "<Figure size 640x480 with 1 Axes>"
      ]
     },
     "metadata": {},
     "output_type": "display_data"
    }
   ],
   "source": [
    "\n",
    "# Define the curvature function\n",
    "def curvature(s, n, shape, c, h):\n",
    "    segment_length = c + h \n",
    "    segment_index = int(s // segment_length) # current segment\n",
    "    segment_index = min(segment_index, n - 1) # array bounds\n",
    "    # Return the corresponding curvature\n",
    "    return shape[segment_index]\n",
    "\n",
    "\n",
    "num_points = L_curve\n",
    "# # Generate a list of s values (arc length along the curve)\n",
    "s_values = np.linspace(0, L_curve, n+1)\n",
    "print(s_values)\n",
    "\n",
    "\n",
    "k_values = np.array([curvature(s, n, curvatures_o, c,h) for s in s_values])\n",
    "angles = cumtrapz(k_values, s_values, initial=0) # turn angle\n",
    "\n",
    "# curve coordinates\n",
    "x = cumtrapz(np.sin(angles), s_values, initial=0)\n",
    "z = cumtrapz(np.cos(angles), s_values, initial=0)\n",
    "\n",
    "\n",
    "plt.plot(x, z, label=f\"q={q_total} [mm]\")\n",
    "plt.xlim(-100,80)\n",
    "plt.ylim(0,150)\n",
    "plt.xlabel(\"X coordinate (mm)\")\n",
    "plt.ylabel(\"Z coordinate (mm)\")\n",
    "plt.title(\"Non-Constant Curvature: S-shape (2:1 ratio)\")\n",
    "# plt.axis('equal')\n",
    "plt.legend()\n",
    "plt.grid(True)\n",
    "plt.show()\n",
    "\n",
    "# # p value slider\n",
    "# from matplotlib.widgets import Slider\n",
    "# q_slider_ax = plt.axes([0.15, 0.02, 0.65, 0.03])\n",
    "# q_slider = Slider(q_slider_ax, 'Tube base displacement, q', -17, 17, valinit=0)\n",
    "# q_slider.on_changed(update)\n",
    "\n",
    "\n",
    "\n",
    "# # Calculate total curvature by integrating the curvature over the length of the segments\n",
    "# segment_lengths = np.full(n, L_curve / n)\n",
    "# total_curvature = cumtrapz(curvatures, segment_lengths, initial=0)\n",
    "\n",
    "\n"
   ]
  },
  {
   "cell_type": "markdown",
   "metadata": {},
   "source": [
    "## 2d Visualization"
   ]
  },
  {
   "cell_type": "markdown",
   "metadata": {},
   "source": []
  }
 ],
 "metadata": {
  "kernelspec": {
   "display_name": "Python 3",
   "language": "python",
   "name": "python3"
  },
  "language_info": {
   "codemirror_mode": {
    "name": "ipython",
    "version": 3
   },
   "file_extension": ".py",
   "mimetype": "text/x-python",
   "name": "python",
   "nbconvert_exporter": "python",
   "pygments_lexer": "ipython3",
   "version": "3.10.7"
  }
 },
 "nbformat": 4,
 "nbformat_minor": 2
}
